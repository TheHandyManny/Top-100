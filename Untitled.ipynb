{
 "cells": [
  {
   "cell_type": "code",
   "execution_count": 60,
   "id": "a6c776c5",
   "metadata": {},
   "outputs": [],
   "source": [
    "from bs4 import BeautifulSoup\n",
    "import pandas as pd\n",
    "import requests\n",
    "import re\n",
    "import time\n",
    "from datetime import datetime\n",
    "import random\n",
    "import math"
   ]
  },
  {
   "cell_type": "code",
   "execution_count": 2,
   "id": "ec6ce817",
   "metadata": {},
   "outputs": [],
   "source": [
    "links = [\"https://en.wikipedia.org/wiki/Billboard_Year-End_Hot_100_singles_of_\" + str(x) for x in range(2020, 1999, -1)]"
   ]
  },
  {
   "cell_type": "code",
   "execution_count": 3,
   "id": "05277762",
   "metadata": {},
   "outputs": [
    {
     "data": {
      "text/plain": [
       "['https://en.wikipedia.org/wiki/Billboard_Year-End_Hot_100_singles_of_2020',\n",
       " 'https://en.wikipedia.org/wiki/Billboard_Year-End_Hot_100_singles_of_2019',\n",
       " 'https://en.wikipedia.org/wiki/Billboard_Year-End_Hot_100_singles_of_2018',\n",
       " 'https://en.wikipedia.org/wiki/Billboard_Year-End_Hot_100_singles_of_2017',\n",
       " 'https://en.wikipedia.org/wiki/Billboard_Year-End_Hot_100_singles_of_2016',\n",
       " 'https://en.wikipedia.org/wiki/Billboard_Year-End_Hot_100_singles_of_2015',\n",
       " 'https://en.wikipedia.org/wiki/Billboard_Year-End_Hot_100_singles_of_2014',\n",
       " 'https://en.wikipedia.org/wiki/Billboard_Year-End_Hot_100_singles_of_2013',\n",
       " 'https://en.wikipedia.org/wiki/Billboard_Year-End_Hot_100_singles_of_2012',\n",
       " 'https://en.wikipedia.org/wiki/Billboard_Year-End_Hot_100_singles_of_2011',\n",
       " 'https://en.wikipedia.org/wiki/Billboard_Year-End_Hot_100_singles_of_2010',\n",
       " 'https://en.wikipedia.org/wiki/Billboard_Year-End_Hot_100_singles_of_2009',\n",
       " 'https://en.wikipedia.org/wiki/Billboard_Year-End_Hot_100_singles_of_2008',\n",
       " 'https://en.wikipedia.org/wiki/Billboard_Year-End_Hot_100_singles_of_2007',\n",
       " 'https://en.wikipedia.org/wiki/Billboard_Year-End_Hot_100_singles_of_2006',\n",
       " 'https://en.wikipedia.org/wiki/Billboard_Year-End_Hot_100_singles_of_2005',\n",
       " 'https://en.wikipedia.org/wiki/Billboard_Year-End_Hot_100_singles_of_2004',\n",
       " 'https://en.wikipedia.org/wiki/Billboard_Year-End_Hot_100_singles_of_2003',\n",
       " 'https://en.wikipedia.org/wiki/Billboard_Year-End_Hot_100_singles_of_2002',\n",
       " 'https://en.wikipedia.org/wiki/Billboard_Year-End_Hot_100_singles_of_2001',\n",
       " 'https://en.wikipedia.org/wiki/Billboard_Year-End_Hot_100_singles_of_2000']"
      ]
     },
     "execution_count": 3,
     "metadata": {},
     "output_type": "execute_result"
    }
   ],
   "source": [
    "links"
   ]
  },
  {
   "cell_type": "markdown",
   "id": "55249454",
   "metadata": {},
   "source": [
    "# Old Code"
   ]
  },
  {
   "cell_type": "code",
   "execution_count": 4,
   "id": "bf72b23c",
   "metadata": {
    "scrolled": true
   },
   "outputs": [],
   "source": [
    "songs = []\n",
    "artists = []\n",
    "years = []\n",
    "ranks = []\n",
    "\n",
    "for x in links:\n",
    "    time.sleep(5)\n",
    "    request = requests.get(x)\n",
    "    soup = BeautifulSoup(request.content, \"html.parser\")\n",
    "    table = soup.find_all('td')\n",
    "    \n",
    "    for count, item in enumerate(table):\n",
    "        if len(item.text.strip()) > 0 and count < 300 and int(x[-4:]) not in [2012, 2013]:\n",
    "            try:\n",
    "                if count % 3 == 1:\n",
    "                    songs.append(item.text.strip().replace(\"\\\"\", \"\"))\n",
    "                elif count % 3 == 2:\n",
    "                    artists.append(item.text.strip())\n",
    "                elif count % 3 == 0:\n",
    "                    ranks.append(count / 3)\n",
    "                    years.append(x[-4:])\n",
    "            except:\n",
    "                print(x[-4:])\n",
    "    \n",
    "            "
   ]
  },
  {
   "cell_type": "markdown",
   "id": "ad42b197",
   "metadata": {},
   "source": [
    "# New Code, made with Tom (Does not work)"
   ]
  },
  {
   "cell_type": "code",
   "execution_count": 5,
   "id": "9c795f0d",
   "metadata": {},
   "outputs": [],
   "source": [
    "# number_list = [] \n",
    "# song_list = [] \n",
    "# artist_list = []\n",
    "\n",
    "# for x in links:\n",
    "#     time.sleep(5)\n",
    "#     request = requests.get(x)\n",
    "#     soup = BeautifulSoup(request.content, \"html.parser\")\n",
    "#     table = soup.find_all('td')\n",
    "#     for row in table: \n",
    "#         text = row.text\n",
    "\n",
    "#         if text.isdigit(): \n",
    "#             number_list.append(text)\n",
    "\n",
    "#         elif re.search( '\\\".*\\\"',text) != None: \n",
    "#             song_list.append(text.replace(\"\\\"\", \"\"))\n",
    "\n",
    "#         elif re.search('\\d{4}', text) == None: \n",
    "#             artist_list.append(text)"
   ]
  },
  {
   "cell_type": "code",
   "execution_count": 7,
   "id": "8b99033e",
   "metadata": {},
   "outputs": [
    {
     "data": {
      "text/plain": [
       "(1900, 1900, 1900, 1900)"
      ]
     },
     "execution_count": 7,
     "metadata": {},
     "output_type": "execute_result"
    }
   ],
   "source": [
    "len(songs), len(artists), len(ranks), len(years)"
   ]
  },
  {
   "cell_type": "code",
   "execution_count": 18,
   "id": "d7cf33f9",
   "metadata": {},
   "outputs": [],
   "source": [
    "data = pd.DataFrame()"
   ]
  },
  {
   "cell_type": "code",
   "execution_count": 19,
   "id": "3d8a174f",
   "metadata": {},
   "outputs": [],
   "source": [
    "data['Song_Names'] = songs\n",
    "data['Artist_Name'] = artists\n",
    "data['Song_Ranking'] = ranks\n",
    "data['Realease_Year'] = years"
   ]
  },
  {
   "cell_type": "code",
   "execution_count": 20,
   "id": "7606d19e",
   "metadata": {},
   "outputs": [
    {
     "data": {
      "text/html": [
       "<div>\n",
       "<style scoped>\n",
       "    .dataframe tbody tr th:only-of-type {\n",
       "        vertical-align: middle;\n",
       "    }\n",
       "\n",
       "    .dataframe tbody tr th {\n",
       "        vertical-align: top;\n",
       "    }\n",
       "\n",
       "    .dataframe thead th {\n",
       "        text-align: right;\n",
       "    }\n",
       "</style>\n",
       "<table border=\"1\" class=\"dataframe\">\n",
       "  <thead>\n",
       "    <tr style=\"text-align: right;\">\n",
       "      <th></th>\n",
       "      <th>Song_Names</th>\n",
       "      <th>Artist_Name</th>\n",
       "      <th>Song_Ranking</th>\n",
       "      <th>Realease_Year</th>\n",
       "    </tr>\n",
       "  </thead>\n",
       "  <tbody>\n",
       "    <tr>\n",
       "      <th>0</th>\n",
       "      <td>Blinding Lights</td>\n",
       "      <td>The Weeknd</td>\n",
       "      <td>0.0</td>\n",
       "      <td>2020</td>\n",
       "    </tr>\n",
       "    <tr>\n",
       "      <th>1</th>\n",
       "      <td>Circles</td>\n",
       "      <td>Post Malone</td>\n",
       "      <td>1.0</td>\n",
       "      <td>2020</td>\n",
       "    </tr>\n",
       "    <tr>\n",
       "      <th>2</th>\n",
       "      <td>The Box</td>\n",
       "      <td>Roddy Ricch</td>\n",
       "      <td>2.0</td>\n",
       "      <td>2020</td>\n",
       "    </tr>\n",
       "    <tr>\n",
       "      <th>3</th>\n",
       "      <td>Don't Start Now</td>\n",
       "      <td>Dua Lipa</td>\n",
       "      <td>3.0</td>\n",
       "      <td>2020</td>\n",
       "    </tr>\n",
       "    <tr>\n",
       "      <th>4</th>\n",
       "      <td>Rockstar</td>\n",
       "      <td>DaBaby featuring Roddy Ricch</td>\n",
       "      <td>4.0</td>\n",
       "      <td>2020</td>\n",
       "    </tr>\n",
       "  </tbody>\n",
       "</table>\n",
       "</div>"
      ],
      "text/plain": [
       "        Song_Names                   Artist_Name  Song_Ranking Realease_Year\n",
       "0  Blinding Lights                    The Weeknd           0.0          2020\n",
       "1          Circles                   Post Malone           1.0          2020\n",
       "2          The Box                   Roddy Ricch           2.0          2020\n",
       "3  Don't Start Now                      Dua Lipa           3.0          2020\n",
       "4         Rockstar  DaBaby featuring Roddy Ricch           4.0          2020"
      ]
     },
     "execution_count": 20,
     "metadata": {},
     "output_type": "execute_result"
    }
   ],
   "source": [
    "data.head()"
   ]
  },
  {
   "cell_type": "code",
   "execution_count": 22,
   "id": "5d18d896",
   "metadata": {},
   "outputs": [
    {
     "data": {
      "text/plain": [
       "(1900, 4)"
      ]
     },
     "execution_count": 22,
     "metadata": {},
     "output_type": "execute_result"
    }
   ],
   "source": [
    "data.shape"
   ]
  },
  {
   "cell_type": "code",
   "execution_count": 23,
   "id": "269a48e4",
   "metadata": {},
   "outputs": [
    {
     "data": {
      "text/html": [
       "<div>\n",
       "<style scoped>\n",
       "    .dataframe tbody tr th:only-of-type {\n",
       "        vertical-align: middle;\n",
       "    }\n",
       "\n",
       "    .dataframe tbody tr th {\n",
       "        vertical-align: top;\n",
       "    }\n",
       "\n",
       "    .dataframe thead th {\n",
       "        text-align: right;\n",
       "    }\n",
       "</style>\n",
       "<table border=\"1\" class=\"dataframe\">\n",
       "  <thead>\n",
       "    <tr style=\"text-align: right;\">\n",
       "      <th></th>\n",
       "      <th>Song_Names</th>\n",
       "      <th>Artist_Name</th>\n",
       "      <th>Song_Ranking</th>\n",
       "      <th>Realease_Year</th>\n",
       "    </tr>\n",
       "  </thead>\n",
       "  <tbody>\n",
       "    <tr>\n",
       "      <th>1895</th>\n",
       "      <td>I Don't Wanna</td>\n",
       "      <td>Aaliyah</td>\n",
       "      <td>95.0</td>\n",
       "      <td>2000</td>\n",
       "    </tr>\n",
       "    <tr>\n",
       "      <th>1896</th>\n",
       "      <td>Independent Women Part I</td>\n",
       "      <td>Destiny's Child</td>\n",
       "      <td>96.0</td>\n",
       "      <td>2000</td>\n",
       "    </tr>\n",
       "    <tr>\n",
       "      <th>1897</th>\n",
       "      <td>Gotta Tell You</td>\n",
       "      <td>Samantha Mumba</td>\n",
       "      <td>97.0</td>\n",
       "      <td>2000</td>\n",
       "    </tr>\n",
       "    <tr>\n",
       "      <th>1898</th>\n",
       "      <td>Waiting for Tonight</td>\n",
       "      <td>Jennifer Lopez</td>\n",
       "      <td>98.0</td>\n",
       "      <td>2000</td>\n",
       "    </tr>\n",
       "    <tr>\n",
       "      <th>1899</th>\n",
       "      <td>Shackles (Praise You)</td>\n",
       "      <td>Mary Mary</td>\n",
       "      <td>99.0</td>\n",
       "      <td>2000</td>\n",
       "    </tr>\n",
       "  </tbody>\n",
       "</table>\n",
       "</div>"
      ],
      "text/plain": [
       "                    Song_Names      Artist_Name  Song_Ranking Realease_Year\n",
       "1895             I Don't Wanna          Aaliyah          95.0          2000\n",
       "1896  Independent Women Part I  Destiny's Child          96.0          2000\n",
       "1897            Gotta Tell You   Samantha Mumba          97.0          2000\n",
       "1898       Waiting for Tonight   Jennifer Lopez          98.0          2000\n",
       "1899     Shackles (Praise You)        Mary Mary          99.0          2000"
      ]
     },
     "execution_count": 23,
     "metadata": {},
     "output_type": "execute_result"
    }
   ],
   "source": [
    "data.tail()"
   ]
  },
  {
   "cell_type": "code",
   "execution_count": 100,
   "id": "a00d5145",
   "metadata": {},
   "outputs": [
    {
     "name": "stdout",
     "output_type": "stream",
     "text": [
      "Please input a name of a song from the years 2000 - 2020.\n",
      "I spy\n",
      "Im sorry, but your song could not be matched.\n"
     ]
    }
   ],
   "source": [
    "def roundup(x):\n",
    "    return int(math.ceil(x / 100.0)) * 100\n",
    "\n",
    "user_input = input(\"Please input a name of a song from the years 2000 - 2020.\\n\")\n",
    "user_input = user_input.title()\n",
    "\n",
    "if user_input in data['Song_Names'].values:\n",
    "    song_index = data.index[data['Song_Names'] == user_input].to_list()[0]\n",
    "    old_song = data.iloc[song_index].values\n",
    "    new_song = data.iloc[(random.randint(roundup(song_index)-101, roundup(song_index)-1))]\n",
    "    \n",
    "    print(\"Your song was \\\"\" + old_song[0] + \"\\\" by \\\"\" + old_song[1] + \"\\\" from the year\", old_song[3] + \".\")\n",
    "    print(\"We recommend: \\\"\" + new_song.values[0] + \"\\\" by \\\"\" + new_song.values[1] + \"\\\".\")\n",
    "else:\n",
    "    print(\"Im sorry, but your song could not be matched.\")\n",
    "    "
   ]
  },
  {
   "cell_type": "code",
   "execution_count": 99,
   "id": "8eee6031",
   "metadata": {},
   "outputs": [
    {
     "data": {
      "text/plain": [
       "'Smooth'"
      ]
     },
     "execution_count": 99,
     "metadata": {},
     "output_type": "execute_result"
    }
   ],
   "source": [
    "user_input.title()"
   ]
  },
  {
   "cell_type": "code",
   "execution_count": 70,
   "id": "ecb0296b",
   "metadata": {},
   "outputs": [
    {
     "data": {
      "text/plain": [
       "'Kryptonite'"
      ]
     },
     "execution_count": 70,
     "metadata": {},
     "output_type": "execute_result"
    }
   ],
   "source": [
    "data.iloc[1814].values[0]"
   ]
  },
  {
   "cell_type": "code",
   "execution_count": 54,
   "id": "03dfee20",
   "metadata": {},
   "outputs": [],
   "source": []
  },
  {
   "cell_type": "code",
   "execution_count": null,
   "id": "1ed83870",
   "metadata": {},
   "outputs": [],
   "source": []
  }
 ],
 "metadata": {
  "kernelspec": {
   "display_name": "Python 3 (ipykernel)",
   "language": "python",
   "name": "python3"
  },
  "language_info": {
   "codemirror_mode": {
    "name": "ipython",
    "version": 3
   },
   "file_extension": ".py",
   "mimetype": "text/x-python",
   "name": "python",
   "nbconvert_exporter": "python",
   "pygments_lexer": "ipython3",
   "version": "3.9.7"
  }
 },
 "nbformat": 4,
 "nbformat_minor": 5
}
